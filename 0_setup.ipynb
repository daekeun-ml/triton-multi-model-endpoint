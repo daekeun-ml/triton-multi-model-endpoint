{
 "cells": [
  {
   "cell_type": "markdown",
   "id": "1b71b65f-bfc5-4977-8353-a816b6949aad",
   "metadata": {},
   "source": [
    "## 1. Install dependencies\n",
    "---"
   ]
  },
  {
   "cell_type": "code",
   "execution_count": null,
   "id": "45e1f24e-2a69-4235-bb3b-8dcff8d27b27",
   "metadata": {
    "tags": []
   },
   "outputs": [],
   "source": [
    "%pip install -U sagemaker pillow huggingface-hub tritonclient[all]"
   ]
  },
  {
   "cell_type": "markdown",
   "id": "38945e7f-4f03-457e-b3da-a0d0e728f1ff",
   "metadata": {},
   "source": [
    "### Install docker compose for Local mode\n",
    "- https://github.com/aws/sagemaker-python-sdk/blob/master/doc/overview.rst#local-mode"
   ]
  },
  {
   "cell_type": "code",
   "execution_count": null,
   "id": "50216729-ec1f-4174-8937-02206ab67d50",
   "metadata": {
    "tags": []
   },
   "outputs": [],
   "source": [
    "!sudo curl -L \"https://github.com/docker/compose/releases/download/v2.7.0/docker-compose-$(uname -s)-$(uname -m)\" -o /usr/local/bin/docker-compose\n",
    "!sudo chmod +x /usr/local/bin/docker-compose"
   ]
  },
  {
   "cell_type": "markdown",
   "id": "3474a177-6535-44a8-a43c-7623ab3b38e4",
   "metadata": {},
   "source": [
    "<br>\n",
    "\n",
    "## 2. Change docker image cache directory to EBS volume\n",
    "---"
   ]
  },
  {
   "cell_type": "code",
   "execution_count": null,
   "id": "ba6d8231-2f4e-49eb-89f9-38057f6f9217",
   "metadata": {
    "tags": []
   },
   "outputs": [],
   "source": [
    "%%bash\n",
    "\n",
    "#!/usr/bin/env bash\n",
    "\n",
    "echo '{\n",
    "    \"runtimes\": {\n",
    "        \"nvidia\": {\n",
    "            \"path\": \"nvidia-container-runtime\",\n",
    "            \"runtimeArgs\": []\n",
    "        }\n",
    "    }\n",
    "}' > daemon.json\n",
    "\n",
    "sudo cp daemon.json /etc/docker/daemon.json && rm daemon.json\n",
    "\n",
    "DAEMON_PATH=\"/etc/docker\"\n",
    "MEMORY_SIZE=10G\n",
    "\n",
    "FLAG=$(cat $DAEMON_PATH/daemon.json | jq 'has(\"data-root\")')\n",
    "# echo $FLAG\n",
    "\n",
    "if [ \"$FLAG\" == true ]; then\n",
    "    echo \"Already revised\"\n",
    "else\n",
    "    echo \"Add data-root and default-shm-size=$MEMORY_SIZE\"\n",
    "    sudo cp $DAEMON_PATH/daemon.json $DAEMON_PATH/daemon.json.bak\n",
    "    sudo cat $DAEMON_PATH/daemon.json.bak | jq '. += {\"data-root\":\"/home/ec2-user/SageMaker/.container/docker\",\"default-shm-size\":\"'$MEMORY_SIZE'\"}' | sudo tee $DAEMON_PATH/daemon.json > /dev/null\n",
    "    sudo service docker restart\n",
    "    echo \"Docker Restart\"\n",
    "fi\n",
    "\n",
    "sudo docker info | grep Root"
   ]
  }
 ],
 "metadata": {
  "kernelspec": {
   "display_name": "conda_pytorch_p310",
   "language": "python",
   "name": "conda_pytorch_p310"
  },
  "language_info": {
   "codemirror_mode": {
    "name": "ipython",
    "version": 3
   },
   "file_extension": ".py",
   "mimetype": "text/x-python",
   "name": "python",
   "nbconvert_exporter": "python",
   "pygments_lexer": "ipython3",
   "version": "3.10.10"
  }
 },
 "nbformat": 4,
 "nbformat_minor": 5
}
